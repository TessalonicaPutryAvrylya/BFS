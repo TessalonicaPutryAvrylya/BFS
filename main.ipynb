{
  "nbformat": 4,
  "nbformat_minor": 0,
  "metadata": {
    "colab": {
      "name": "672020167_Tugas2",
      "provenance": []
    },
    "kernelspec": {
      "name": "python3",
      "display_name": "Python 3"
    },
    "language_info": {
      "name": "python"
    }
  },
  "cells": [
    {
      "cell_type": "code",
      "execution_count": null,
      "metadata": {
        "colab": {
          "base_uri": "https://localhost:8080/"
        },
        "id": "52bC3jAj-W0K",
        "outputId": "f10dd6ce-68e5-449c-c35d-4967e602894d"
      },
      "outputs": [
        {
          "output_type": "stream",
          "name": "stdout",
          "text": [
            "['K', 'G', 'C', 'A', 'B', 'D']\n"
          ]
        }
      ],
      "source": [
        "#Tessalonica Putry Avrylya - 672020167\n",
        "\n",
        "#vertexlist dan edgelist dibuat list\n",
        "graph = {\n",
        "    'A': ['B', 'C'],\n",
        "    'B': ['A','D','E'],\n",
        "    'C': ['A','F','G'],\n",
        "    'D': ['B','H'],\n",
        "    'E': ['B','I'],\n",
        "    'F': ['C'],\n",
        "    'G': ['C','J','K'],\n",
        "    'H': ['D'],\n",
        "    'I': ['E'],\n",
        "    'J': ['G'],\n",
        "    'K': ['G','L'],\n",
        "    'L': ['K'],\n",
        "}\n",
        "\n",
        "def bfs(graph_penelusuran, mulai, akhir):\n",
        "    antre = [[mulai]]\n",
        "    visited = set()\n",
        "\n",
        "    while antre:\n",
        "        #Jalur pertama dalam antre\n",
        "        jalur = antre.pop(0)\n",
        "        #Node terakhir di jalur\n",
        "        vertex = jalur[-1]\n",
        "        #Kroscek jalur apakah sampai akhir\n",
        "        if vertex == akhir:\n",
        "            return jalur\n",
        "        #Kroscek node sudah berada di node yang dikunjungi supaya tidak mengulang\n",
        "        elif vertex not in visited:\n",
        "            #Mencari node yang berdekatan, membangun jalur baru dan memasukkannya ke dalam antre\n",
        "            for current_neighbour in graph_penelusuran.get(vertex, []):\n",
        "                new_jalur = list(jalur)\n",
        "                new_jalur.append(current_neighbour)\n",
        "                antre.append(new_jalur)\n",
        "            #Tandai simpul yang sudah dikunjungi\n",
        "            visited.add(vertex)\n",
        "#Mencetak BFS\n",
        "print (bfs(graph, 'K', 'D'))"
      ]
    }
  ]
}